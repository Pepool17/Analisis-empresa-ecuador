{
 "cells": [
  {
   "cell_type": "code",
   "execution_count": 2,
   "metadata": {},
   "outputs": [],
   "source": [
    "import pandas as pd\n",
    "from datetime import datetime, timedelta"
   ]
  },
  {
   "cell_type": "code",
   "execution_count": 3,
   "metadata": {},
   "outputs": [],
   "source": [
    "def texto_a_fecha(texto):\n",
    "    hoy = datetime.now()\n",
    "    palabras = texto.split()\n",
    "    \n",
    "    if len(palabras) < 2:\n",
    "        return hoy.strftime('%m/%d/%Y')\n",
    "    \n",
    "    cantidad = palabras[1]\n",
    "    unidad = palabras[2]\n",
    "    \n",
    "    if cantidad == 'un' or cantidad == 'una':\n",
    "        cantidad = 1\n",
    "    else:\n",
    "        try:\n",
    "            cantidad = int(cantidad)\n",
    "        except ValueError:\n",
    "            return hoy.strftime('%m/%d/%Y')\n",
    "    \n",
    "    if 'año' in unidad:\n",
    "        return (hoy - timedelta(days=cantidad*365)).strftime('%m/%d/%Y')\n",
    "    elif 'mes' in unidad:\n",
    "        return (hoy - timedelta(days=cantidad*30)).strftime('%m/%d/%Y')\n",
    "    elif 'semana' in unidad:\n",
    "        return (hoy - timedelta(weeks=cantidad)).strftime('%m/%d/%Y')\n",
    "    else:\n",
    "        return hoy.strftime('%m/%d/%Y')"
   ]
  },
  {
   "cell_type": "code",
   "execution_count": 5,
   "metadata": {},
   "outputs": [],
   "source": [
    "name = 'bares'\n",
    "df = pd.read_csv(f'comentarios_{name}.xls')\n",
    "if 'Unnamed: 0' in df.columns:\n",
    "    df = df.drop(columns=['Unnamed: 0'])\n",
    "df['Fecha_numero'] = df['Fecha'].apply(texto_a_fecha)\n",
    "df.to_csv(f'comentarios_{name}.csv', index=False)"
   ]
  },
  {
   "cell_type": "code",
   "execution_count": 6,
   "metadata": {},
   "outputs": [
    {
     "data": {
      "text/plain": [
       "['SINNERS Microcervecería Floresta',\n",
       " 'La Santa Cantina Pop',\n",
       " 'Holy Krank Pub',\n",
       " 'Abysmo GastroPub UIO',\n",
       " 'Zmus Bar',\n",
       " \"Finn McCool's\",\n",
       " nan,\n",
       " 'Indie Beer Company',\n",
       " 'Lucky Charm Pub & Beer',\n",
       " 'Rock & Beef Resto-Bar',\n",
       " 'Odeon Pub House',\n",
       " 'The Boot Sports Bar',\n",
       " 'Duff Resto Bar',\n",
       " 'Tijuana']"
      ]
     },
     "execution_count": 6,
     "metadata": {},
     "output_type": "execute_result"
    }
   ],
   "source": [
    "list(df['Nombre'].unique())"
   ]
  },
  {
   "cell_type": "markdown",
   "metadata": {},
   "source": [
    "# Mapa interactivo"
   ]
  },
  {
   "cell_type": "code",
   "execution_count": 2,
   "metadata": {},
   "outputs": [],
   "source": [
    "import folium\n",
    "from folium.plugins import MiniMap"
   ]
  },
  {
   "cell_type": "code",
   "execution_count": 57,
   "metadata": {},
   "outputs": [],
   "source": [
    "def mapa_floresta(coord = [-0.2086949, -78.4854354], nombre= 'Pollos Asados'):\n",
    "    popuptext = f'<b>{nombre}</b>'\n",
    "    floresta = folium.Map(location = coord, zoom_start=18)\n",
    "    folium.Marker(location= coord, popup= popuptext ).add_to(floresta)\n",
    "    folium.Circle(location= coord, color = 'purple', fill_color = 'red', radius = 10, weight = 4, fill_opacity = 0.5, tooltip = f'{nombre}').add_to(floresta)\n",
    "    minimap = MiniMap()\n",
    "    floresta.add_child(minimap)\n",
    "    return floresta"
   ]
  },
  {
   "cell_type": "code",
   "execution_count": 58,
   "metadata": {},
   "outputs": [],
   "source": [
    "df = pd.read_csv(f'comentarios_bares.csv')"
   ]
  },
  {
   "cell_type": "code",
   "execution_count": 59,
   "metadata": {},
   "outputs": [
    {
     "data": {
      "text/html": [
       "<div style=\"width:100%;\"><div style=\"position:relative;width:100%;height:0;padding-bottom:60%;\"><span style=\"color:#565656\">Make this Notebook Trusted to load map: File -> Trust Notebook</span><iframe srcdoc=\"&lt;!DOCTYPE html&gt;\n",
       "&lt;html&gt;\n",
       "&lt;head&gt;\n",
       "    \n",
       "    &lt;meta http-equiv=&quot;content-type&quot; content=&quot;text/html; charset=UTF-8&quot; /&gt;\n",
       "    \n",
       "        &lt;script&gt;\n",
       "            L_NO_TOUCH = false;\n",
       "            L_DISABLE_3D = false;\n",
       "        &lt;/script&gt;\n",
       "    \n",
       "    &lt;style&gt;html, body {width: 100%;height: 100%;margin: 0;padding: 0;}&lt;/style&gt;\n",
       "    &lt;style&gt;#map {position:absolute;top:0;bottom:0;right:0;left:0;}&lt;/style&gt;\n",
       "    &lt;script src=&quot;https://cdn.jsdelivr.net/npm/leaflet@1.9.3/dist/leaflet.js&quot;&gt;&lt;/script&gt;\n",
       "    &lt;script src=&quot;https://code.jquery.com/jquery-3.7.1.min.js&quot;&gt;&lt;/script&gt;\n",
       "    &lt;script src=&quot;https://cdn.jsdelivr.net/npm/bootstrap@5.2.2/dist/js/bootstrap.bundle.min.js&quot;&gt;&lt;/script&gt;\n",
       "    &lt;script src=&quot;https://cdnjs.cloudflare.com/ajax/libs/Leaflet.awesome-markers/2.0.2/leaflet.awesome-markers.js&quot;&gt;&lt;/script&gt;\n",
       "    &lt;link rel=&quot;stylesheet&quot; href=&quot;https://cdn.jsdelivr.net/npm/leaflet@1.9.3/dist/leaflet.css&quot;/&gt;\n",
       "    &lt;link rel=&quot;stylesheet&quot; href=&quot;https://cdn.jsdelivr.net/npm/bootstrap@5.2.2/dist/css/bootstrap.min.css&quot;/&gt;\n",
       "    &lt;link rel=&quot;stylesheet&quot; href=&quot;https://netdna.bootstrapcdn.com/bootstrap/3.0.0/css/bootstrap-glyphicons.css&quot;/&gt;\n",
       "    &lt;link rel=&quot;stylesheet&quot; href=&quot;https://cdn.jsdelivr.net/npm/@fortawesome/fontawesome-free@6.2.0/css/all.min.css&quot;/&gt;\n",
       "    &lt;link rel=&quot;stylesheet&quot; href=&quot;https://cdnjs.cloudflare.com/ajax/libs/Leaflet.awesome-markers/2.0.2/leaflet.awesome-markers.css&quot;/&gt;\n",
       "    &lt;link rel=&quot;stylesheet&quot; href=&quot;https://cdn.jsdelivr.net/gh/python-visualization/folium/folium/templates/leaflet.awesome.rotate.min.css&quot;/&gt;\n",
       "    \n",
       "            &lt;meta name=&quot;viewport&quot; content=&quot;width=device-width,\n",
       "                initial-scale=1.0, maximum-scale=1.0, user-scalable=no&quot; /&gt;\n",
       "            &lt;style&gt;\n",
       "                #map_6fdbdac8513672dc23ff947068ae495b {\n",
       "                    position: relative;\n",
       "                    width: 100.0%;\n",
       "                    height: 100.0%;\n",
       "                    left: 0.0%;\n",
       "                    top: 0.0%;\n",
       "                }\n",
       "                .leaflet-container { font-size: 1rem; }\n",
       "            &lt;/style&gt;\n",
       "        \n",
       "    &lt;script src=&quot;https://cdnjs.cloudflare.com/ajax/libs/leaflet-minimap/3.6.1/Control.MiniMap.js&quot;&gt;&lt;/script&gt;\n",
       "    &lt;link rel=&quot;stylesheet&quot; href=&quot;https://cdnjs.cloudflare.com/ajax/libs/leaflet-minimap/3.6.1/Control.MiniMap.css&quot;/&gt;\n",
       "&lt;/head&gt;\n",
       "&lt;body&gt;\n",
       "    \n",
       "    \n",
       "            &lt;div class=&quot;folium-map&quot; id=&quot;map_6fdbdac8513672dc23ff947068ae495b&quot; &gt;&lt;/div&gt;\n",
       "        \n",
       "&lt;/body&gt;\n",
       "&lt;script&gt;\n",
       "    \n",
       "    \n",
       "            var map_6fdbdac8513672dc23ff947068ae495b = L.map(\n",
       "                &quot;map_6fdbdac8513672dc23ff947068ae495b&quot;,\n",
       "                {\n",
       "                    center: [-0.2065498, -78.4882573],\n",
       "                    crs: L.CRS.EPSG3857,\n",
       "                    zoom: 18,\n",
       "                    zoomControl: true,\n",
       "                    preferCanvas: false,\n",
       "                }\n",
       "            );\n",
       "\n",
       "            \n",
       "\n",
       "        \n",
       "    \n",
       "            var tile_layer_b46fcab7c08c9f682c6018377753ef51 = L.tileLayer(\n",
       "                &quot;https://tile.openstreetmap.org/{z}/{x}/{y}.png&quot;,\n",
       "                {&quot;attribution&quot;: &quot;\\u0026copy; \\u003ca href=\\&quot;https://www.openstreetmap.org/copyright\\&quot;\\u003eOpenStreetMap\\u003c/a\\u003e contributors&quot;, &quot;detectRetina&quot;: false, &quot;maxNativeZoom&quot;: 19, &quot;maxZoom&quot;: 19, &quot;minZoom&quot;: 0, &quot;noWrap&quot;: false, &quot;opacity&quot;: 1, &quot;subdomains&quot;: &quot;abc&quot;, &quot;tms&quot;: false}\n",
       "            );\n",
       "        \n",
       "    \n",
       "            tile_layer_b46fcab7c08c9f682c6018377753ef51.addTo(map_6fdbdac8513672dc23ff947068ae495b);\n",
       "        \n",
       "    \n",
       "            var marker_9825c67a502a0e905b80ea4d40e47fc5 = L.marker(\n",
       "                [-0.2065498, -78.4882573],\n",
       "                {}\n",
       "            ).addTo(map_6fdbdac8513672dc23ff947068ae495b);\n",
       "        \n",
       "    \n",
       "        var popup_0fbeee6a9c71ecdc4ea27ae36d061f70 = L.popup({&quot;maxWidth&quot;: &quot;100%&quot;});\n",
       "\n",
       "        \n",
       "            \n",
       "                var html_2caccf5d269aed8f65f1cb1890804f48 = $(`&lt;div id=&quot;html_2caccf5d269aed8f65f1cb1890804f48&quot; style=&quot;width: 100.0%; height: 100.0%;&quot;&gt;&lt;b&gt;Abysmo GastroPub UIO&lt;/b&gt;&lt;/div&gt;`)[0];\n",
       "                popup_0fbeee6a9c71ecdc4ea27ae36d061f70.setContent(html_2caccf5d269aed8f65f1cb1890804f48);\n",
       "            \n",
       "        \n",
       "\n",
       "        marker_9825c67a502a0e905b80ea4d40e47fc5.bindPopup(popup_0fbeee6a9c71ecdc4ea27ae36d061f70)\n",
       "        ;\n",
       "\n",
       "        \n",
       "    \n",
       "    \n",
       "            var circle_a4a759aa49113c83b0dd5e394cdb18b0 = L.circle(\n",
       "                [-0.2065498, -78.4882573],\n",
       "                {&quot;bubblingMouseEvents&quot;: true, &quot;color&quot;: &quot;purple&quot;, &quot;dashArray&quot;: null, &quot;dashOffset&quot;: null, &quot;fill&quot;: true, &quot;fillColor&quot;: &quot;red&quot;, &quot;fillOpacity&quot;: 0.5, &quot;fillRule&quot;: &quot;evenodd&quot;, &quot;lineCap&quot;: &quot;round&quot;, &quot;lineJoin&quot;: &quot;round&quot;, &quot;opacity&quot;: 1.0, &quot;radius&quot;: 10, &quot;stroke&quot;: true, &quot;weight&quot;: 4}\n",
       "            ).addTo(map_6fdbdac8513672dc23ff947068ae495b);\n",
       "        \n",
       "    \n",
       "            circle_a4a759aa49113c83b0dd5e394cdb18b0.bindTooltip(\n",
       "                `&lt;div&gt;\n",
       "                     Abysmo GastroPub UIO\n",
       "                 &lt;/div&gt;`,\n",
       "                {&quot;sticky&quot;: true}\n",
       "            );\n",
       "        \n",
       "    \n",
       "            var tile_layer_d406f0b17d36d6dcdef19e3944ba98c1 = L.tileLayer(\n",
       "                &quot;https://tile.openstreetmap.org/{z}/{x}/{y}.png&quot;,\n",
       "                {&quot;attribution&quot;: &quot;\\u0026copy; \\u003ca href=\\&quot;https://www.openstreetmap.org/copyright\\&quot;\\u003eOpenStreetMap\\u003c/a\\u003e contributors&quot;, &quot;detectRetina&quot;: false, &quot;maxNativeZoom&quot;: 19, &quot;maxZoom&quot;: 19, &quot;minZoom&quot;: 0, &quot;noWrap&quot;: false, &quot;opacity&quot;: 1, &quot;subdomains&quot;: &quot;abc&quot;, &quot;tms&quot;: false}\n",
       "            );\n",
       "            var mini_map_66b6500aefb0f1b0191d46e24c32d5a7 = new L.Control.MiniMap(\n",
       "                tile_layer_d406f0b17d36d6dcdef19e3944ba98c1,\n",
       "                {&quot;autoToggleDisplay&quot;: false, &quot;centerFixed&quot;: false, &quot;collapsedHeight&quot;: 25, &quot;collapsedWidth&quot;: 25, &quot;height&quot;: 150, &quot;minimized&quot;: false, &quot;position&quot;: &quot;bottomright&quot;, &quot;toggleDisplay&quot;: false, &quot;width&quot;: 150, &quot;zoomAnimation&quot;: false, &quot;zoomLevelOffset&quot;: -5}\n",
       "            );\n",
       "            map_6fdbdac8513672dc23ff947068ae495b.addControl(mini_map_66b6500aefb0f1b0191d46e24c32d5a7);\n",
       "        \n",
       "&lt;/script&gt;\n",
       "&lt;/html&gt;\" style=\"position:absolute;width:100%;height:100%;left:0;top:0;border:none !important;\" allowfullscreen webkitallowfullscreen mozallowfullscreen></iframe></div></div>"
      ],
      "text/plain": [
       "<folium.folium.Map at 0x1fb77848220>"
      ]
     },
     "execution_count": 59,
     "metadata": {},
     "output_type": "execute_result"
    }
   ],
   "source": [
    "def extraer_coordenada(df, nombre):\n",
    "    df = df.pivot_table(index='Nombre', values=['Latitud', 'Longitud'], aggfunc='first')\n",
    "    df = df.loc[f'{nombre}',['Latitud', 'Longitud']]\n",
    "    return [df['Latitud'], df['Longitud']]\n",
    "coord = extraer_coordenada(df, 'Abysmo GastroPub UIO')\n",
    "mapa_floresta(coord, 'Abysmo GastroPub UIO')"
   ]
  },
  {
   "cell_type": "code",
   "execution_count": null,
   "metadata": {},
   "outputs": [],
   "source": []
  },
  {
   "cell_type": "code",
   "execution_count": null,
   "metadata": {},
   "outputs": [],
   "source": []
  }
 ],
 "metadata": {
  "kernelspec": {
   "display_name": "pasantia",
   "language": "python",
   "name": "python3"
  },
  "language_info": {
   "codemirror_mode": {
    "name": "ipython",
    "version": 3
   },
   "file_extension": ".py",
   "mimetype": "text/x-python",
   "name": "python",
   "nbconvert_exporter": "python",
   "pygments_lexer": "ipython3",
   "version": "3.8.19"
  }
 },
 "nbformat": 4,
 "nbformat_minor": 2
}
