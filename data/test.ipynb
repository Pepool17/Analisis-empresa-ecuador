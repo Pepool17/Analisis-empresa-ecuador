{
 "cells": [
  {
   "cell_type": "code",
   "execution_count": 2,
   "metadata": {},
   "outputs": [],
   "source": [
    "import pandas as pd\n",
    "from datetime import datetime, timedelta"
   ]
  },
  {
   "cell_type": "code",
   "execution_count": 3,
   "metadata": {},
   "outputs": [],
   "source": [
    "def texto_a_fecha(texto):\n",
    "    hoy = datetime.now()\n",
    "    palabras = texto.split()\n",
    "    \n",
    "    if len(palabras) < 2:\n",
    "        return hoy.strftime('%m/%d/%Y')\n",
    "    \n",
    "    cantidad = palabras[1]\n",
    "    unidad = palabras[2]\n",
    "    \n",
    "    if cantidad == 'un' or cantidad == 'una':\n",
    "        cantidad = 1\n",
    "    else:\n",
    "        try:\n",
    "            cantidad = int(cantidad)\n",
    "        except ValueError:\n",
    "            return hoy.strftime('%m/%d/%Y')\n",
    "    \n",
    "    if 'año' in unidad:\n",
    "        return (hoy - timedelta(days=cantidad*365)).strftime('%m/%d/%Y')\n",
    "    elif 'mes' in unidad:\n",
    "        return (hoy - timedelta(days=cantidad*30)).strftime('%m/%d/%Y')\n",
    "    elif 'semana' in unidad:\n",
    "        return (hoy - timedelta(weeks=cantidad)).strftime('%m/%d/%Y')\n",
    "    else:\n",
    "        return hoy.strftime('%m/%d/%Y')"
   ]
  },
  {
   "cell_type": "code",
   "execution_count": 20,
   "metadata": {},
   "outputs": [],
   "source": [
    "name = 'hoteles'\n",
    "df = pd.read_csv(f'comentarios_{name}.csv')\n",
    "if 'Unnamed: 0' in df.columns:\n",
    "    df = df.drop(columns=['Unnamed: 0'])\n",
    "df['Fecha_numero'] = df['Fecha'].apply(texto_a_fecha)\n",
    "df.to_csv(f'comentarios_{name}.csv', index=False)"
   ]
  },
  {
   "cell_type": "code",
   "execution_count": 26,
   "metadata": {},
   "outputs": [
    {
     "data": {
      "text/plain": [
       "array(['La Pata Gorda Av. Isabel la Católica', 'Alitas Benditas',\n",
       "       'K Cocina Fusión by khuyay', 'Fast Food El Perro Vago',\n",
       "       'TORREMOLINOS and TQ MANABI - Bar & Restaurante', 'La Briciola',\n",
       "       'Tributo Restaurante', 'Pavarotti', 'La Gloria', 'Portum',\n",
       "       'La Vecindad de los Cuates', 'La Concha de la Lora',\n",
       "       'El Pescador Restaurant', 'Casa Warmi', 'URKO',\n",
       "       'EL PULPO RESTAURANTE OFICIAL', 'Restaurante Floresta Brava',\n",
       "       '1037 Restaurante', 'Restaurante Muphys', 'Enciende Tus Sentidos'],\n",
       "      dtype=object)"
      ]
     },
     "execution_count": 26,
     "metadata": {},
     "output_type": "execute_result"
    }
   ],
   "source": [
    "list(df['Nombre'].unique())"
   ]
  },
  {
   "cell_type": "code",
   "execution_count": 17,
   "metadata": {},
   "outputs": [],
   "source": [
    "\n"
   ]
  },
  {
   "cell_type": "code",
   "execution_count": null,
   "metadata": {},
   "outputs": [],
   "source": []
  }
 ],
 "metadata": {
  "kernelspec": {
   "display_name": "pasantia",
   "language": "python",
   "name": "python3"
  },
  "language_info": {
   "codemirror_mode": {
    "name": "ipython",
    "version": 3
   },
   "file_extension": ".py",
   "mimetype": "text/x-python",
   "name": "python",
   "nbconvert_exporter": "python",
   "pygments_lexer": "ipython3",
   "version": "3.8.19"
  }
 },
 "nbformat": 4,
 "nbformat_minor": 2
}
